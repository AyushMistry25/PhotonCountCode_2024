{
 "cells": [
  {
   "cell_type": "markdown",
   "id": "14d1e2ca-9386-4e14-98a7-4ca99acc685b",
   "metadata": {},
   "source": [
    "**CTFM quantitation scripts**"
   ]
  },
  {
   "cell_type": "markdown",
   "id": "c2336c39-430b-458b-a15f-e5cd77926bdf",
   "metadata": {},
   "source": [
    "1. The following code was used to derive the photon count for a channel of interest in the window of analysis."
   ]
  },
  {
   "cell_type": "markdown",
   "id": "b43bf102-ee57-4020-a86a-4ae9c6b56155",
   "metadata": {},
   "source": [
    "The following packages were used for this analysis:"
   ]
  },
  {
   "cell_type": "code",
   "execution_count": null,
   "id": "c1bc9699-acdd-4854-9f2b-c176e65b5985",
   "metadata": {},
   "outputs": [],
   "source": [
    "import numpy as np\n",
    "import matplotlib.pyplot as plt\n",
    "from matplotlib.colors import LinearSegmentedColormap\n",
    "import lumicks.pylake as lk\n",
    "from skimage import filters\n",
    "from scipy.signal import savgol_filter\n",
    "import pandas as pd"
   ]
  },
  {
   "cell_type": "code",
   "execution_count": null,
   "id": "f7b18a9f-a0a8-4596-9dd1-21abf5425e70",
   "metadata": {},
   "outputs": [],
   "source": [
    "%matplotlib widget\n",
    "\n",
    "linear_colormaps = {\n",
    "\"red\": LinearSegmentedColormap.from_list(\"red\", colors=[(0, 0, 0), (1, 0, 0)]),\n",
    "\"green\": LinearSegmentedColormap.from_list(\"green\", colors=[(0, 0, 0), (0, 1, 0)]),\n",
    "\"blue\": LinearSegmentedColormap.from_list(\"blue\", colors=[(0, 0, 0), (0, 0, 1)]),\n",
    "}"
   ]
  },
  {
   "cell_type": "markdown",
   "id": "2e252b23-7451-4487-b6bb-2a0abc659d3a",
   "metadata": {},
   "source": [
    "Here onwards, you can load your kymograph in the .h5 format within the portion marked YourFile.h5 below."
   ]
  },
  {
   "cell_type": "code",
   "execution_count": null,
   "id": "f39e50db-e7af-443c-8f54-68e8c63e4768",
   "metadata": {},
   "outputs": [],
   "source": [
    "f = lk.File(\"YourFile.h5\")\n",
    "name, kymo = f.kymos.popitem()"
   ]
  },
  {
   "cell_type": "code",
   "execution_count": null,
   "id": "993376bf-42d9-40a6-a9e5-beb9bab656b8",
   "metadata": {},
   "outputs": [],
   "source": [
    "plt.figure()\n",
    "kymo.plot(\"rgb\", adjustment=lk.ColorAdjustment([0,0,0], [99,100,100], mode=\"absolute\"),aspect = \"auto\")\n",
    "plt.show()"
   ]
  },
  {
   "cell_type": "markdown",
   "id": "82a91acf-33d9-4344-933a-96452c71ae90",
   "metadata": {},
   "source": [
    "Here, the kymograph is converted to a pixel and frame-index image, to derive any channel-specific photon count information."
   ]
  },
  {
   "cell_type": "code",
   "execution_count": null,
   "id": "4de79f29-4ff6-45fe-b847-719b39a07a56",
   "metadata": {},
   "outputs": [],
   "source": [
    "image = kymo.get_image(\"blue\")\n",
    "plt.figure()\n",
    "plt.imshow(image,vmax=50, aspect = \"auto\")\n",
    "plt.show()"
   ]
  },
  {
   "cell_type": "markdown",
   "id": "9d075373-8466-439d-be14-3251056afad6",
   "metadata": {},
   "source": [
    "A region is appropriately selected to determine the background photon counts in the kymograph."
   ]
  },
  {
   "cell_type": "code",
   "execution_count": null,
   "id": "0a76c61d-3948-491e-a7d4-6283518e7da0",
   "metadata": {},
   "outputs": [],
   "source": [
    "#The first set is along the y-axis (pixels), and the second set is along the x-axis (frame-index))\n",
    "background = np.mean(image[20:26,460:580]) #These are hypothetical numbers.\n",
    "background"
   ]
  },
  {
   "cell_type": "code",
   "execution_count": null,
   "id": "c8b3a24f-8c3f-4243-8f79-9bd0903875a2",
   "metadata": {},
   "outputs": [],
   "source": [
    "image_minus_background = image - background"
   ]
  },
  {
   "cell_type": "code",
   "execution_count": null,
   "id": "35034d87-9d7b-4978-9a74-1b8cfee97fb4",
   "metadata": {},
   "outputs": [],
   "source": [
    "#Select region of interest (This will be your window of interest)\n",
    "selection = image_minus_background[41:45,550:750]"
   ]
  },
  {
   "cell_type": "code",
   "execution_count": null,
   "id": "bf7e2c6e-714e-48a9-9cb3-d4a665c7d972",
   "metadata": {},
   "outputs": [],
   "source": [
    "summed = np.sum(selection, axis=0)\n",
    "len(summed)"
   ]
  },
  {
   "cell_type": "code",
   "execution_count": null,
   "id": "6b3eda77-443c-4bdf-8df4-87455301542a",
   "metadata": {},
   "outputs": [],
   "source": [
    "time_coordinates = np.arange(len(summed))*kymo.line_time_seconds\n",
    "\n",
    "plt.figure()\n",
    "plt.plot(time_coordinates,summed)\n",
    "plt.ylabel(\"YourLabel\")\n",
    "plt.xlabel(\"Time (s)\")"
   ]
  },
  {
   "cell_type": "markdown",
   "id": "af1f4adc-a8b2-4398-9787-da1be0838499",
   "metadata": {},
   "source": [
    "A Savitzky-Golay filter was applied for purposes of better visualizing trends, in cases where the raw trace is noisy."
   ]
  },
  {
   "cell_type": "code",
   "execution_count": null,
   "id": "73f87a0f-0dbf-4b34-833a-5297b8e41922",
   "metadata": {},
   "outputs": [],
   "source": [
    "time_coordinates = np.arange(len(summed)) * kymo.line_time_seconds\n",
    "\n",
    "#Applying the Savitzky-Golay filter to smoothen the data\n",
    "window_length = 11  \n",
    "polyorder = 2       \n",
    "\n",
    "if len(summed) < window_length:\n",
    "    window_length = len(summed) if len(summed) % 2 == 1 else len(summed) - 1\n",
    "\n",
    "smoothed = savgol_filter(summed, window_length, polyorder)\n",
    "\n",
    "#Plot the original and smoothed data here\n",
    "plt.figure()\n",
    "plt.plot(time_coordinates, summed, alpha=0.5, label=\"Raw\")\n",
    "plt.plot(time_coordinates, smoothed, color='r/g/b', label=\"Smoothed\")\n",
    "plt.ylabel(\"Blue photon counts\")\n",
    "plt.xlabel(\"Time (s)\")\n",
    "plt.legend()\n",
    "plt.show()\n",
    "\n",
    "#Export variables to a CSV format and save as a CSV file\n",
    "output_data = np.column_stack((time_coordinates, summed, smoothed))\n",
    "header = \"Time (s),Raw Photon Count,Smoothed Photon Count\"\n",
    "np.savetxt(\"YourFile.csv\", output_data, delimiter=\",\", header=header, comments='')\n"
   ]
  },
  {
   "cell_type": "markdown",
   "id": "21e0c33a-fa4d-4bbc-8311-842679ccf78e",
   "metadata": {},
   "source": [
    "2. The following code-chunk was used for applying the Sobel image filter and determining the length of the binding event along the Y-axis."
   ]
  },
  {
   "cell_type": "markdown",
   "id": "3dc7cb72-e2ac-4e36-88d1-2f20a5d693fd",
   "metadata": {},
   "source": [
    "We end up calling the widget tool because you want to crop out the beads, since they end up providing a region of high contrast change, and can thus confound your image filter."
   ]
  },
  {
   "cell_type": "code",
   "execution_count": null,
   "id": "2f083a54-4e67-4e16-b954-cbe06b59a8ac",
   "metadata": {},
   "outputs": [],
   "source": [
    "widget = kymo.crop_and_calibrate(channel=\"rgb\", aspect=\"auto\", adjustment=lk.ColorAdjustment([0,0,0], [99,100,100], mode=\"absolute\"))"
   ]
  },
  {
   "cell_type": "code",
   "execution_count": null,
   "id": "63edc4ee-6dee-4fe6-a3e9-61815fda53c9",
   "metadata": {},
   "outputs": [],
   "source": [
    "new_kymo = widget.kymo\n",
    "\n",
    "plt.figure()\n",
    "new_kymo.plot(\"rgb\", aspect=\"auto\", adjustment=lk.ColorAdjustment([0,0,0], [99,100,100], mode=\"absolute\"))\n",
    "plt.show()"
   ]
  },
  {
   "cell_type": "code",
   "execution_count": null,
   "id": "2ca1c7ab-fba1-4e75-a1de-61053ef85c4e",
   "metadata": {},
   "outputs": [],
   "source": [
    "image = new_kymo.get_image(\"blue\")"
   ]
  },
  {
   "cell_type": "code",
   "execution_count": null,
   "id": "461077fb-9aee-4cd8-9fd3-c0371895ad26",
   "metadata": {},
   "outputs": [],
   "source": [
    "plt.figure()\n",
    "plt.imshow(image,vmax=50, aspect = \"auto\")\n",
    "plt.show()"
   ]
  },
  {
   "cell_type": "code",
   "execution_count": null,
   "id": "026582d2-6925-4716-b84f-f4c2f32581d8",
   "metadata": {},
   "outputs": [],
   "source": [
    "image = new_kymo.get_image('blue')\n",
    "edge_filter = filters.sobel(image, axis=[0,0,0])\n",
    "\n",
    "plt.figure(figsize=(10,6))\n",
    "plt.imshow(edge_filter, vmax=50)\n",
    "plt.axis('tight')\n",
    "plt.tight_layout()\n",
    "plt.show()"
   ]
  },
  {
   "cell_type": "code",
   "execution_count": null,
   "id": "8370f87e-ad0a-4e4a-a110-479c0f31f09f",
   "metadata": {},
   "outputs": [],
   "source": [
    "mock = lk.kymo._kymo_from_array(edge_filter, 'r/g/b', kymo.line_time_seconds, pixel_size_um=1.0)"
   ]
  },
  {
   "cell_type": "code",
   "execution_count": null,
   "id": "b162de17-f85b-42c3-b042-cb27552aecd8",
   "metadata": {},
   "outputs": [],
   "source": [
    "plt.close('all')\n",
    "\n",
    "kw_blue = lk.KymoWidgetGreedy(mock, \"r/g/b\", pixel_threshold=3, aspect = \"auto\", min_length=10, window=6, sigma=0.20, vmin = 12, vmax=18, track_width = 5,\n",
    "    slider_ranges={\"sigma\": (0.1, 1)}, correct_origin = True)"
   ]
  },
  {
   "cell_type": "markdown",
   "id": "63089d65-8e0f-4df3-9fe6-90033d7192ef",
   "metadata": {},
   "source": [
    "At this point, you save the tracked regions, and load them when you call the original kymograph next. After loading it, you finally save it again, so the data is calibrated to distance (or knt, if you calibrate the distance to the contour length of the DNA substrate)"
   ]
  },
  {
   "cell_type": "code",
   "execution_count": null,
   "id": "1a109ea2-0be4-410c-a273-4ca9f5ac4053",
   "metadata": {},
   "outputs": [],
   "source": [
    "kw_blue_original = lk.KymoWidgetGreedy(new_kymo, \"r/g/b\",vmin = 25, vmax=45, aspect = \"auto\", correct_origin=True)"
   ]
  },
  {
   "cell_type": "markdown",
   "id": "049763ca-bbfe-41c5-ad64-7c5e06def0d4",
   "metadata": {},
   "source": [
    "3. The following code chunk was used to determine the positional binding data."
   ]
  },
  {
   "cell_type": "code",
   "execution_count": null,
   "id": "d8fc1fec-5d8c-40a7-975e-86b01de00cef",
   "metadata": {},
   "outputs": [],
   "source": [
    "#Apply background subtraction\n",
    "background = np.mean(image[7:10, 1000:1300]) #There are random values here\n",
    "image_minus_background = image - background \n",
    "\n",
    "#Set your frame range\n",
    "start_frame = 45\n",
    "end_frame = 3560\n",
    "\n",
    "roi = image_minus_background[1:46, 45:3560] #select your pixels along the y-axis, and frames along the X-axis\n",
    "\n",
    "frame_window = roi[1:46:, start_frame:end_frame]\n",
    "\n",
    "average_profile = np.mean(frame_window, axis=1)\n",
    "\n",
    "# Define pixel positions along tether\n",
    "pixel_positions = np.arange(average_profile.shape[0])\n",
    "pixel_size_microns = 0.1  #This value is based on the pixel size of your recordings\n",
    "positions_um = pixel_positions * pixel_size_microns\n",
    "\n",
    "# Plotting\n",
    "plt.figure()\n",
    "plt.plot(positions_um, average_profile)\n",
    "plt.xlabel(\"Position along tether (µm)\")\n",
    "plt.ylabel(\"Average photon count\")\n",
    "plt.title(\"Positional Binding Profile (Averaged over Frames {}–{})\".format(start_frame, end_frame))\n",
    "plt.show()\n",
    "\n",
    "import pandas as pd\n",
    "\n",
    "# Create a DataFrame\n",
    "df = pd.DataFrame({\n",
    "    \"Position_um\": positions_um,\n",
    "    \"Average_Photon_Count\": average_profile\n",
    "})\n",
    "\n",
    "# Save to CSV\n",
    "df.to_csv(\"YourFile.csv\", index=False)"
   ]
  },
  {
   "cell_type": "code",
   "execution_count": null,
   "id": "42d1c3d6-5372-4812-93db-392894d7e9e1",
   "metadata": {},
   "outputs": [],
   "source": []
  }
 ],
 "metadata": {
  "kernelspec": {
   "display_name": "Python 3 (ipykernel)",
   "language": "python",
   "name": "python3"
  },
  "language_info": {
   "codemirror_mode": {
    "name": "ipython",
    "version": 3
   },
   "file_extension": ".py",
   "mimetype": "text/x-python",
   "name": "python",
   "nbconvert_exporter": "python",
   "pygments_lexer": "ipython3",
   "version": "3.13.3"
  }
 },
 "nbformat": 4,
 "nbformat_minor": 5
}
